{
  "nbformat": 4,
  "nbformat_minor": 0,
  "metadata": {
    "colab": {
      "provenance": []
    },
    "kernelspec": {
      "name": "python3",
      "display_name": "Python 3"
    },
    "language_info": {
      "name": "python"
    }
  },
  "cells": [
    {
      "cell_type": "markdown",
      "metadata": {
        "id": "GSnYElShOpCW"
      },
      "source": [
        "# **Importing Libraries**"
      ]
    },
    {
      "cell_type": "code",
      "execution_count": null,
      "metadata": {
        "id": "PwHgbyHXxEQE"
      },
      "outputs": [],
      "source": [
        "import os\n",
        "import warnings\n",
        "import pandas as pd\n",
        "import numpy as np\n",
        "from sklearn.preprocessing import LabelEncoder\n",
        "from sklearn.model_selection import train_test_split, KFold\n",
        "from sklearn.ensemble import RandomForestClassifier\n",
        "from sklearn.metrics import precision_recall_fscore_support, classification_report\n",
        "\n"
      ]
    },
    {
      "cell_type": "markdown",
      "metadata": {
        "id": "r-pptp1cTtyf"
      },
      "source": [
        "# **EXPLORATORY DATA ANALYSIS**"
      ]
    },
    {
      "cell_type": "code",
      "execution_count": null,
      "metadata": {
        "colab": {
          "base_uri": "https://localhost:8080/"
        },
        "id": "HwVbWnZLFjxI",
        "outputId": "aeaf6b31-8398-4da4-81f6-0adbe409632a"
      },
      "outputs": [
        {
          "output_type": "stream",
          "name": "stdout",
          "text": [
            "     Age Number of sexual partners First sexual intercourse  \\\n",
            "0     18                       4.0                     15.0   \n",
            "1     15                       1.0                     14.0   \n",
            "2     34                       1.0                        ?   \n",
            "3     52                       5.0                     16.0   \n",
            "4     46                       3.0                     21.0   \n",
            "..   ...                       ...                      ...   \n",
            "853   34                       3.0                     18.0   \n",
            "854   32                       2.0                     19.0   \n",
            "855   25                       2.0                     17.0   \n",
            "856   33                       2.0                     24.0   \n",
            "857   29                       2.0                     20.0   \n",
            "\n",
            "    Num of pregnancies Smokes Smokes (years) Smokes (packs/year)  \\\n",
            "0                  1.0    0.0            0.0                 0.0   \n",
            "1                  1.0    0.0            0.0                 0.0   \n",
            "2                  1.0    0.0            0.0                 0.0   \n",
            "3                  4.0    1.0           37.0                37.0   \n",
            "4                  4.0    0.0            0.0                 0.0   \n",
            "..                 ...    ...            ...                 ...   \n",
            "853                0.0    0.0            0.0                 0.0   \n",
            "854                1.0    0.0            0.0                 0.0   \n",
            "855                0.0    0.0            0.0                 0.0   \n",
            "856                2.0    0.0            0.0                 0.0   \n",
            "857                1.0    0.0            0.0                 0.0   \n",
            "\n",
            "    Hormonal Contraceptives Hormonal Contraceptives (years)  IUD  ...  \\\n",
            "0                       0.0                             0.0  0.0  ...   \n",
            "1                       0.0                             0.0  0.0  ...   \n",
            "2                       0.0                             0.0  0.0  ...   \n",
            "3                       1.0                             3.0  0.0  ...   \n",
            "4                       1.0                            15.0  0.0  ...   \n",
            "..                      ...                             ...  ...  ...   \n",
            "853                     0.0                             0.0  0.0  ...   \n",
            "854                     1.0                             8.0  0.0  ...   \n",
            "855                     1.0                            0.08  0.0  ...   \n",
            "856                     1.0                            0.08  0.0  ...   \n",
            "857                     1.0                             0.5  0.0  ...   \n",
            "\n",
            "    STDs: Time since first diagnosis STDs: Time since last diagnosis  \\\n",
            "0                                  ?                               ?   \n",
            "1                                  ?                               ?   \n",
            "2                                  ?                               ?   \n",
            "3                                  ?                               ?   \n",
            "4                                  ?                               ?   \n",
            "..                               ...                             ...   \n",
            "853                                ?                               ?   \n",
            "854                                ?                               ?   \n",
            "855                                ?                               ?   \n",
            "856                                ?                               ?   \n",
            "857                                ?                               ?   \n",
            "\n",
            "    Dx:Cancer Dx:CIN Dx:HPV Dx Hinselmann Schiller Citology Biopsy  \n",
            "0           0      0      0  0          0        0        0      0  \n",
            "1           0      0      0  0          0        0        0      0  \n",
            "2           0      0      0  0          0        0        0      0  \n",
            "3           1      0      1  0          0        0        0      0  \n",
            "4           0      0      0  0          0        0        0      0  \n",
            "..        ...    ...    ... ..        ...      ...      ...    ...  \n",
            "853         0      0      0  0          0        0        0      0  \n",
            "854         0      0      0  0          0        0        0      0  \n",
            "855         0      0      0  0          0        0        1      0  \n",
            "856         0      0      0  0          0        0        0      0  \n",
            "857         0      0      0  0          0        0        0      0  \n",
            "\n",
            "[858 rows x 36 columns]\n",
            "============ Total number of columns====================\n",
            "Index(['Age', 'Number of sexual partners', 'First sexual intercourse',\n",
            "       'Num of pregnancies', 'Smokes', 'Smokes (years)', 'Smokes (packs/year)',\n",
            "       'Hormonal Contraceptives', 'Hormonal Contraceptives (years)', 'IUD',\n",
            "       'IUD (years)', 'STDs', 'STDs (number)', 'STDs:condylomatosis',\n",
            "       'STDs:cervical condylomatosis', 'STDs:vaginal condylomatosis',\n",
            "       'STDs:vulvo-perineal condylomatosis', 'STDs:syphilis',\n",
            "       'STDs:pelvic inflammatory disease', 'STDs:genital herpes',\n",
            "       'STDs:molluscum contagiosum', 'STDs:AIDS', 'STDs:HIV',\n",
            "       'STDs:Hepatitis B', 'STDs:HPV', 'STDs: Number of diagnosis',\n",
            "       'STDs: Time since first diagnosis', 'STDs: Time since last diagnosis',\n",
            "       'Dx:Cancer', 'Dx:CIN', 'Dx:HPV', 'Dx', 'Hinselmann', 'Schiller',\n",
            "       'Citology', 'Biopsy'],\n",
            "      dtype='object')\n"
          ]
        }
      ],
      "source": [
        "# IMPORTING DATASET\n",
        "df=pd.read_csv('cc.csv')\n",
        "print(df)\n",
        "print('============ Total number of columns====================')\n",
        "print(df.columns)"
      ]
    },
    {
      "cell_type": "code",
      "source": [
        "\n",
        "print('============ Total number of columns====================')\n",
        "print(df.columns)"
      ],
      "metadata": {
        "colab": {
          "base_uri": "https://localhost:8080/"
        },
        "id": "l5z5lZjP-Ldq",
        "outputId": "40faba94-440f-44ce-cc32-4d65430d851d"
      },
      "execution_count": null,
      "outputs": [
        {
          "output_type": "stream",
          "name": "stdout",
          "text": [
            "============ Total number of columns====================\n",
            "Index(['Age', 'Number of sexual partners', 'First sexual intercourse',\n",
            "       'Num of pregnancies', 'Smokes', 'Smokes (years)', 'Smokes (packs/year)',\n",
            "       'Hormonal Contraceptives', 'Hormonal Contraceptives (years)', 'IUD',\n",
            "       'IUD (years)', 'STDs', 'STDs (number)', 'STDs:condylomatosis',\n",
            "       'STDs:cervical condylomatosis', 'STDs:vaginal condylomatosis',\n",
            "       'STDs:vulvo-perineal condylomatosis', 'STDs:syphilis',\n",
            "       'STDs:pelvic inflammatory disease', 'STDs:genital herpes',\n",
            "       'STDs:molluscum contagiosum', 'STDs:AIDS', 'STDs:HIV',\n",
            "       'STDs:Hepatitis B', 'STDs:HPV', 'STDs: Number of diagnosis',\n",
            "       'STDs: Time since first diagnosis', 'STDs: Time since last diagnosis',\n",
            "       'Dx:Cancer', 'Dx:CIN', 'Dx:HPV', 'Dx', 'Hinselmann', 'Schiller',\n",
            "       'Citology', 'Biopsy'],\n",
            "      dtype='object')\n"
          ]
        }
      ]
    },
    {
      "cell_type": "markdown",
      "metadata": {
        "id": "AI_eiOohLEeP"
      },
      "source": [
        "**DESCRIPTIVE STATISTICS**"
      ]
    },
    {
      "cell_type": "code",
      "execution_count": null,
      "metadata": {
        "colab": {
          "base_uri": "https://localhost:8080/"
        },
        "id": "_2dKQFQELIp_",
        "outputId": "70821342-97f8-4600-ca4e-5e45663ead63"
      },
      "outputs": [
        {
          "output_type": "stream",
          "name": "stdout",
          "text": [
            "================================== DATA STATISTICS ==========================\n",
            "              Age  STDs: Number of diagnosis   Dx:Cancer      Dx:CIN  \\\n",
            "count  858.000000                 858.000000  858.000000  858.000000   \n",
            "mean    26.820513                   0.087413    0.020979    0.010490   \n",
            "std      8.497948                   0.302545    0.143398    0.101939   \n",
            "min     13.000000                   0.000000    0.000000    0.000000   \n",
            "25%     20.000000                   0.000000    0.000000    0.000000   \n",
            "50%     25.000000                   0.000000    0.000000    0.000000   \n",
            "75%     32.000000                   0.000000    0.000000    0.000000   \n",
            "max     84.000000                   3.000000    1.000000    1.000000   \n",
            "\n",
            "           Dx:HPV          Dx  Hinselmann    Schiller    Citology      Biopsy  \n",
            "count  858.000000  858.000000  858.000000  858.000000  858.000000  858.000000  \n",
            "mean     0.020979    0.027972    0.040793    0.086247    0.051282    0.064103  \n",
            "std      0.143398    0.164989    0.197925    0.280892    0.220701    0.245078  \n",
            "min      0.000000    0.000000    0.000000    0.000000    0.000000    0.000000  \n",
            "25%      0.000000    0.000000    0.000000    0.000000    0.000000    0.000000  \n",
            "50%      0.000000    0.000000    0.000000    0.000000    0.000000    0.000000  \n",
            "75%      0.000000    0.000000    0.000000    0.000000    0.000000    0.000000  \n",
            "max      1.000000    1.000000    1.000000    1.000000    1.000000    1.000000  \n"
          ]
        }
      ],
      "source": [
        "\n",
        "print('================================== DATA STATISTICS ==========================')\n",
        "print(df.describe())\n",
        "\n"
      ]
    },
    {
      "cell_type": "code",
      "source": [
        "import seaborn as sns\n",
        "import matplotlib.pyplot as plt\n",
        "# target variable distribution\n",
        "print(df.LUNG_CANCER.value_counts())\n",
        "sns.countplot(x = df['LUNG_CANCER']);\n",
        "plt.title(\"Target Distribution\")\n",
        "plt.show()"
      ],
      "metadata": {
        "colab": {
          "base_uri": "https://localhost:8080/",
          "height": 356
        },
        "id": "Ou_wVLDP92jc",
        "outputId": "84bb5e12-777c-42e1-c4b0-55bf71514b6c"
      },
      "execution_count": null,
      "outputs": [
        {
          "output_type": "error",
          "ename": "AttributeError",
          "evalue": "ignored",
          "traceback": [
            "\u001b[0;31m---------------------------------------------------------------------------\u001b[0m",
            "\u001b[0;31mAttributeError\u001b[0m                            Traceback (most recent call last)",
            "\u001b[0;32m<ipython-input-5-d187e1172fd6>\u001b[0m in \u001b[0;36m<cell line: 4>\u001b[0;34m()\u001b[0m\n\u001b[1;32m      2\u001b[0m \u001b[0;32mimport\u001b[0m \u001b[0mmatplotlib\u001b[0m\u001b[0;34m.\u001b[0m\u001b[0mpyplot\u001b[0m \u001b[0;32mas\u001b[0m \u001b[0mplt\u001b[0m\u001b[0;34m\u001b[0m\u001b[0;34m\u001b[0m\u001b[0m\n\u001b[1;32m      3\u001b[0m \u001b[0;31m# target variable distribution\u001b[0m\u001b[0;34m\u001b[0m\u001b[0;34m\u001b[0m\u001b[0m\n\u001b[0;32m----> 4\u001b[0;31m \u001b[0mprint\u001b[0m\u001b[0;34m(\u001b[0m\u001b[0mdf\u001b[0m\u001b[0;34m.\u001b[0m\u001b[0mLUNG_CANCER\u001b[0m\u001b[0;34m.\u001b[0m\u001b[0mvalue_counts\u001b[0m\u001b[0;34m(\u001b[0m\u001b[0;34m)\u001b[0m\u001b[0;34m)\u001b[0m\u001b[0;34m\u001b[0m\u001b[0;34m\u001b[0m\u001b[0m\n\u001b[0m\u001b[1;32m      5\u001b[0m \u001b[0msns\u001b[0m\u001b[0;34m.\u001b[0m\u001b[0mcountplot\u001b[0m\u001b[0;34m(\u001b[0m\u001b[0mx\u001b[0m \u001b[0;34m=\u001b[0m \u001b[0mdf\u001b[0m\u001b[0;34m[\u001b[0m\u001b[0;34m'LUNG_CANCER'\u001b[0m\u001b[0;34m]\u001b[0m\u001b[0;34m)\u001b[0m\u001b[0;34m;\u001b[0m\u001b[0;34m\u001b[0m\u001b[0;34m\u001b[0m\u001b[0m\n\u001b[1;32m      6\u001b[0m \u001b[0mplt\u001b[0m\u001b[0;34m.\u001b[0m\u001b[0mtitle\u001b[0m\u001b[0;34m(\u001b[0m\u001b[0;34m\"Target Distribution\"\u001b[0m\u001b[0;34m)\u001b[0m\u001b[0;34m\u001b[0m\u001b[0;34m\u001b[0m\u001b[0m\n",
            "\u001b[0;32m/usr/local/lib/python3.10/dist-packages/pandas/core/generic.py\u001b[0m in \u001b[0;36m__getattr__\u001b[0;34m(self, name)\u001b[0m\n\u001b[1;32m   5900\u001b[0m         ):\n\u001b[1;32m   5901\u001b[0m             \u001b[0;32mreturn\u001b[0m \u001b[0mself\u001b[0m\u001b[0;34m[\u001b[0m\u001b[0mname\u001b[0m\u001b[0;34m]\u001b[0m\u001b[0;34m\u001b[0m\u001b[0;34m\u001b[0m\u001b[0m\n\u001b[0;32m-> 5902\u001b[0;31m         \u001b[0;32mreturn\u001b[0m \u001b[0mobject\u001b[0m\u001b[0;34m.\u001b[0m\u001b[0m__getattribute__\u001b[0m\u001b[0;34m(\u001b[0m\u001b[0mself\u001b[0m\u001b[0;34m,\u001b[0m \u001b[0mname\u001b[0m\u001b[0;34m)\u001b[0m\u001b[0;34m\u001b[0m\u001b[0;34m\u001b[0m\u001b[0m\n\u001b[0m\u001b[1;32m   5903\u001b[0m \u001b[0;34m\u001b[0m\u001b[0m\n\u001b[1;32m   5904\u001b[0m     \u001b[0;32mdef\u001b[0m \u001b[0m__setattr__\u001b[0m\u001b[0;34m(\u001b[0m\u001b[0mself\u001b[0m\u001b[0;34m,\u001b[0m \u001b[0mname\u001b[0m\u001b[0;34m:\u001b[0m \u001b[0mstr\u001b[0m\u001b[0;34m,\u001b[0m \u001b[0mvalue\u001b[0m\u001b[0;34m)\u001b[0m \u001b[0;34m->\u001b[0m \u001b[0;32mNone\u001b[0m\u001b[0;34m:\u001b[0m\u001b[0;34m\u001b[0m\u001b[0;34m\u001b[0m\u001b[0m\n",
            "\u001b[0;31mAttributeError\u001b[0m: 'DataFrame' object has no attribute 'LUNG_CANCER'"
          ]
        }
      ]
    },
    {
      "cell_type": "markdown",
      "source": [
        "#**Checking Null Values**"
      ],
      "metadata": {
        "id": "uVA_gA1Y_fvu"
      }
    },
    {
      "cell_type": "code",
      "source": [
        "# checking for null values\n",
        "df.isnull().sum()"
      ],
      "metadata": {
        "id": "mfgEtA1P_jEB"
      },
      "execution_count": null,
      "outputs": []
    },
    {
      "cell_type": "markdown",
      "source": [
        "#**Checking Categorical Features**"
      ],
      "metadata": {
        "id": "gEAPSh19ABM8"
      }
    },
    {
      "cell_type": "code",
      "source": [
        "df.select_dtypes(include=['object']).dtypes"
      ],
      "metadata": {
        "id": "Y0iuA29cAApq"
      },
      "execution_count": null,
      "outputs": []
    },
    {
      "cell_type": "markdown",
      "source": [
        "#**Converting Categorical Feature Diagnosis**"
      ],
      "metadata": {
        "id": "wf7kt-lxASHn"
      }
    },
    {
      "cell_type": "code",
      "source": [
        "from sklearn.preprocessing import LabelEncoder\n",
        "label_encoder = LabelEncoder()\n",
        "# Encode labels in column 'species'.\n",
        "df['LUNG_CANCER']= label_encoder.fit_transform(df['LUNG_CANCER'])\n",
        "df['GENDER']= label_encoder.fit_transform(df['GENDER'])\n"
      ],
      "metadata": {
        "id": "lpZT9L4fAVzD"
      },
      "execution_count": null,
      "outputs": []
    },
    {
      "cell_type": "code",
      "source": [
        "bg= df[df['LUNG_CANCER']==1]\n",
        "\n",
        "mg = df[df['LUNG_CANCER']==0]\n",
        "print(bg.shape,mg.shape)"
      ],
      "metadata": {
        "id": "N6TCurN6BLD_"
      },
      "execution_count": null,
      "outputs": []
    },
    {
      "cell_type": "markdown",
      "source": [
        "#**Visualization of Features Distribution**"
      ],
      "metadata": {
        "id": "hmusaZXx_4MT"
      }
    },
    {
      "cell_type": "code",
      "source": [
        "plt.figure(figsize = (14, 20))\n",
        "plotnumber = 1\n",
        "\n",
        "for column in df:\n",
        "    if plotnumber <= 30:\n",
        "        ax = plt.subplot(10, 3, plotnumber)\n",
        "        sns.distplot(df[column])\n",
        "        plt.xlabel(column)\n",
        "\n",
        "    plotnumber += 1\n",
        "\n",
        "plt.tight_layout()\n",
        "plt.show()"
      ],
      "metadata": {
        "id": "d6GaRokI_8cO"
      },
      "execution_count": null,
      "outputs": []
    },
    {
      "cell_type": "markdown",
      "source": [
        "#**Checking Features Correlation**"
      ],
      "metadata": {
        "id": "d2TkQIeEB2Su"
      }
    },
    {
      "cell_type": "code",
      "source": [
        "plt.figure(figsize=(10, 10))\n",
        "sns.heatmap(df.corr(), annot=True , linewidths=1);"
      ],
      "metadata": {
        "id": "GovAaeU6B1MI"
      },
      "execution_count": null,
      "outputs": []
    },
    {
      "cell_type": "markdown",
      "source": [
        "#**Feature Selection using Pearson Correlation**"
      ],
      "metadata": {
        "id": "GglFODirGLeN"
      }
    },
    {
      "cell_type": "code",
      "source": [
        "def correlation(dataset, threshold):\n",
        "    col_corr = set()  # Set of all the names of correlated columns\n",
        "    corr_matrix = df.corr()\n",
        "    for i in range(len(corr_matrix.columns)):\n",
        "        for j in range(i):\n",
        "            if abs(corr_matrix.iloc[i, j]) > threshold: # we are interested in absolute coeff value\n",
        "                colname = corr_matrix.columns[i]  # getting the name of column\n",
        "                col_corr.add(colname)\n",
        "    return col_corr"
      ],
      "metadata": {
        "id": "Jq1_yd99GP6J"
      },
      "execution_count": null,
      "outputs": []
    },
    {
      "cell_type": "code",
      "source": [
        "corr_features = correlation(df, 0.55)\n",
        "len(set(corr_features))"
      ],
      "metadata": {
        "id": "F1PQ4bMSGUtk"
      },
      "execution_count": null,
      "outputs": []
    },
    {
      "cell_type": "code",
      "source": [
        "corr_features\n"
      ],
      "metadata": {
        "id": "y6Y5buKWGU0v"
      },
      "execution_count": null,
      "outputs": []
    },
    {
      "cell_type": "code",
      "source": [
        "df.drop(corr_features,axis=1)\n",
        "df.drop(corr_features,axis=1)"
      ],
      "metadata": {
        "id": "t3oNKqicGbDj"
      },
      "execution_count": null,
      "outputs": []
    },
    {
      "cell_type": "code",
      "source": [
        "y=df.pop('LUNG_CANCER')"
      ],
      "metadata": {
        "id": "Ay9IxUdbHEoj"
      },
      "execution_count": null,
      "outputs": []
    },
    {
      "cell_type": "markdown",
      "metadata": {
        "id": "2XZdOK2XeBnx"
      },
      "source": [
        "# **HANDLING IMBALANCE DATASET**"
      ]
    },
    {
      "cell_type": "code",
      "execution_count": null,
      "metadata": {
        "id": "TGes-mYleIB4"
      },
      "outputs": [],
      "source": [
        "from imblearn.combine import SMOTETomek\n",
        "from imblearn.under_sampling import NearMiss"
      ]
    },
    {
      "cell_type": "code",
      "execution_count": null,
      "metadata": {
        "id": "AYoCTO0IeRWo"
      },
      "outputs": [],
      "source": [
        "# Implementing Oversampling for Handling Imbalanced\n",
        "smk = SMOTETomek(random_state=42)\n",
        "xdata,ydata=smk.fit_resample(df,y)"
      ]
    },
    {
      "cell_type": "code",
      "execution_count": null,
      "metadata": {
        "id": "VhtCo2l3eTdB"
      },
      "outputs": [],
      "source": [
        "xdata.shape,ydata.shape"
      ]
    },
    {
      "cell_type": "code",
      "execution_count": null,
      "metadata": {
        "id": "uPoiNmK-eYDv"
      },
      "outputs": [],
      "source": [
        "from collections import Counter\n",
        "print('Original dataset shape {}'.format(Counter(xdata)))\n",
        "print('Resampled dataset shape {}'.format(Counter(ydata)))"
      ]
    },
    {
      "cell_type": "markdown",
      "source": [
        "#**Train Test Split**"
      ],
      "metadata": {
        "id": "ryqeDZ4MHP0F"
      }
    },
    {
      "cell_type": "code",
      "source": [
        "train_X, test_X, train_y, test_y = train_test_split(df,y, test_size=0.3)\n",
        "print(train_X.shape)\n",
        "print(test_X.shape)\n",
        "print(train_y.shape)\n",
        "print(test_y.shape)"
      ],
      "metadata": {
        "id": "ZX0yA8uKHS1v"
      },
      "execution_count": null,
      "outputs": []
    },
    {
      "cell_type": "markdown",
      "source": [
        "#**Model Training**"
      ],
      "metadata": {
        "id": "cL_d7saKHlKU"
      }
    },
    {
      "cell_type": "code",
      "source": [
        "# implementing algorthm DT\n",
        "from sklearn.svm import SVC\n",
        "SVM = SVC()\n",
        "ModelSVM = SVM.fit(train_X,train_y)"
      ],
      "metadata": {
        "id": "FS9jvJ8GHnvB"
      },
      "execution_count": null,
      "outputs": []
    },
    {
      "cell_type": "markdown",
      "source": [
        "#**Model Testing**"
      ],
      "metadata": {
        "id": "Jxgmjs0vH263"
      }
    },
    {
      "cell_type": "code",
      "source": [
        "PredictionSVM = SVM.predict(test_X)"
      ],
      "metadata": {
        "id": "fIpE2WCPHte1"
      },
      "execution_count": null,
      "outputs": []
    },
    {
      "cell_type": "markdown",
      "source": [
        "#**Training Accuracy**"
      ],
      "metadata": {
        "id": "qTK5qB1fH5bZ"
      }
    },
    {
      "cell_type": "code",
      "source": [
        "# =====================ACCUARACY===========================\n",
        "print(\"=====================SVM Training Accuarcy=============\")\n",
        "tracSVM=SVM.score(train_X,train_y)\n",
        "trainingAccSVM=tracSVM*100\n",
        "print(trainingAccSVM)\n"
      ],
      "metadata": {
        "id": "RhDlfYziHwLP"
      },
      "execution_count": null,
      "outputs": []
    },
    {
      "cell_type": "markdown",
      "source": [
        "#**Testing Accuracy**"
      ],
      "metadata": {
        "id": "I7c26V41H-ba"
      }
    },
    {
      "cell_type": "code",
      "source": [
        "from sklearn.metrics import accuracy_score,classification_report\n",
        "print(\"====================SVM Testing Accuracy============\")\n",
        "teacSVM=accuracy_score(test_y,PredictionSVM)\n",
        "testingAccSVM=teacSVM*100\n",
        "print(testingAccSVM)\n",
        "from sklearn.metrics import confusion_matrix\n",
        "print(classification_report(test_y, PredictionSVM))\n",
        "confusion_matrix(test_y, PredictionSVM)"
      ],
      "metadata": {
        "id": "07IJON8iH1Jh"
      },
      "execution_count": null,
      "outputs": []
    },
    {
      "cell_type": "code",
      "execution_count": null,
      "metadata": {
        "id": "a142Fv8FMfsJ"
      },
      "outputs": [],
      "source": [
        "#Graphical Representation\n",
        "import seaborn as sns\n",
        "import matplotlib.pyplot as plt\n",
        "# sns.pairplot(df)\n",
        "# plt.show()"
      ]
    }
  ]
}